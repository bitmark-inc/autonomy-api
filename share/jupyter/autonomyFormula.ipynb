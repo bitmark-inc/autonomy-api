{
 "cells": [
  {
   "cell_type": "markdown",
   "metadata": {},
   "source": [
    "## Autonomy equations for data-set from people in MSA  \n",
    "\n",
    "There are 3 types of data in a data-set in Autonomy. They are confirmed cases from Taiwan CDC, symptom reports, and good behavior reports from Autonomy users in a MSA area. Follows are how we calculate these indicators\n"
   ]
  },
  {
   "cell_type": "markdown",
   "metadata": {},
   "source": [
    "### Symptom Indicator\n",
    "+ There are two types of symptoms: **Official** & **Customized** Symptom.\n",
    "+ A user can adjust Weight for each symptom to have their score\n",
    "+ The higher number symptoms reported, the lower the score\n",
    "+ The score of symptoms is:\n",
    "\n",
    "```Score = 100 * (1 -(SumOfTotalWeight/((TotalPeople*MaxWeightPerPerson)+SumOfCustomizedWeight)))```\n",
    "\n",
    "+ Factors\n",
    "\t+ SumOfTotalWeight\n",
    "\t\t+ WeightMatrix : the weight that a user gives to each official symptom.\n",
    "\t\t```\n",
    "\t\t{\n",
    "\t\t\tFever:   3,\n",
    "\t\t\tCough:   2,\n",
    "\t\t\tFatigue: 1,\n",
    "\t\t\tBreath:  1,\n",
    "\t\t\tNasal:   1,\n",
    "\t\t\tThroat:  1,\n",
    "\t\t\tChest:   2,\n",
    "\t\t\tFace:    2,\n",
    "\t\t}\n",
    "\t\t```\n",
    "\t+ TotalPeople : total people report in the MSA at specific period (ie. today) \n",
    "\t+ MaxWeightPerPerson: the weights a person has, if the person reports all official symptoms\n",
    "\t\t+ use the WeightMatrix above, it is (3+2+1+1+1+1+2+2) = 13\n",
    "\t+ CustomizedWeight : the sum of total customized weights\n",
    "\t+ SumOfCustomizedWeight: CustomizedWeight for each symptom is 1 (so CustomizedWeight = CustomizedCount)\n",
    "\t+ Normalization: the score is 100 and the more symptoms and the lower the score\n",
    "    \n",
    "\t ```\n",
    "\t\t100 - 100*(WeightsReported/WeightWeExpectedAsA100Point)\n",
    "\t\t100*(1-(WeightsReported/WeightWeExpectedAsA100Point))\n",
    "\t\t100*(1-(SumOfTotalWeight/(((TotalPeople*MaxWeightPerPerson)+CustomizedWeight)))\n",
    "\t```"
   ]
  },
  {
   "cell_type": "markdown",
   "metadata": {},
   "source": [
    "#### Example data-set of symptom report\n",
    "\n",
    "In  a MSA area there are 5 reports from A,B,C and D\n",
    "\n",
    "```\n",
    " A : Fever , customized01\n",
    " B : Fever, Dry Cought, Chest Pain\n",
    " C : Dry Cough, Fatique\n",
    " D : customized02\n",
    "```\n"
   ]
  },
  {
   "cell_type": "markdown",
   "metadata": {},
   "source": [
    "Data set will have below value\n",
    "+ total count of customized symptoms\n",
    "+ total people in the report\n",
    "+ total count of each official symptom in the Data-set (we call it distribution)\n",
    "+ weight metrix : user can define the weight for each official symptoms while customized weight always weight 1"
   ]
  },
  {
   "cell_type": "code",
   "execution_count": 1,
   "metadata": {},
   "outputs": [],
   "source": [
    "totalCustomizedCountSymptom = 2\n",
    "totalPeopleSymptom = 4"
   ]
  },
  {
   "cell_type": "code",
   "execution_count": 2,
   "metadata": {},
   "outputs": [],
   "source": [
    "\n",
    "distributionSymptom = {\n",
    "    'Fever':   2,\n",
    "    'Cough':   2,\n",
    "    'Fatigue': 1,\n",
    "    'Breath':  0,\n",
    "    'Nasal':   0,\n",
    "    'Throat':  0,\n",
    "    'Chest':   1,\n",
    "    'Face':    0,\n",
    "}\n"
   ]
  },
  {
   "cell_type": "code",
   "execution_count": 3,
   "metadata": {},
   "outputs": [],
   "source": [
    "\n",
    "weightMatrixSymptom = {\n",
    "    'Fever':   3,\n",
    "    'Cough':   2,\n",
    "    'Fatigue': 1,\n",
    "    'Breath':  1,\n",
    "    'Nasal':   1,\n",
    "    'Throat':  1,\n",
    "    'Chest':   2,\n",
    "    'Face':    2,\n",
    "}\n"
   ]
  },
  {
   "cell_type": "markdown",
   "metadata": {},
   "source": [
    "#### Equation\n",
    "+ calculate intermediate values for the final score"
   ]
  },
  {
   "cell_type": "code",
   "execution_count": 4,
   "metadata": {},
   "outputs": [
    {
     "name": "stdout",
     "output_type": "stream",
     "text": [
      "totalWeightSymptom 13.0\n",
      "maxWeightPerPersonSymptom: 13.0\n"
     ]
    }
   ],
   "source": [
    "totalWeightSymptom = 0.0\n",
    "for key, value  in distributionSymptom.items():\n",
    "    totalWeightSymptom = totalWeightSymptom + value*weightMatrixSymptom[key]\n",
    "\n",
    "print('totalWeightSymptom',totalWeightSymptom)\n",
    "maxWeightPerPersonSymptom = 0.0\n",
    "for key, value  in weightMatrixSymptom.items():\n",
    "    maxWeightPerPersonSymptom = maxWeightPerPersonSymptom + value\n",
    "print('maxWeightPerPersonSymptom:',maxWeightPerPersonSymptom)"
   ]
  },
  {
   "cell_type": "markdown",
   "metadata": {},
   "source": [
    "#### Final Score"
   ]
  },
  {
   "cell_type": "code",
   "execution_count": 5,
   "metadata": {},
   "outputs": [
    {
     "name": "stdout",
     "output_type": "stream",
     "text": [
      "**scoreSymptom 75.92592592592592\n"
     ]
    }
   ],
   "source": [
    "if ((totalWeightSymptom*maxWeightPerPersonSymptom)+totalCustomizedCountSymptom*1) > 0:\n",
    "    scoreSymptom = 100*(1-(totalWeightSymptom/((totalPeopleSymptom*maxWeightPerPersonSymptom)+totalCustomizedCountSymptom*1)))\n",
    "else:\n",
    "    scoreSymptom = 100\n",
    "print('**scoreSymptom', scoreSymptom)"
   ]
  },
  {
   "cell_type": "markdown",
   "metadata": {},
   "source": [
    "###  Behaviors Indicator\n",
    "\n",
    "+ There are two types of behaviors: **Official** & **Customized** behavior.\n",
    "+ The user can not change their **weight matrix** in Sprint3\n",
    "+ Each Official behavior weight 1 , the same as customized behavior\n",
    "+ The more good behaviors reported, the better the score\n",
    "+ The score of symptoms is:\n",
    "\n",
    "```Score = 100*(SumOfTotalWeight/((TotalPeople*MaxWeightPerPerson)+SumOfCustomizedWeight))```"
   ]
  },
  {
   "cell_type": "markdown",
   "metadata": {},
   "source": [
    "#### Example data-set of behavior report\n",
    "\n",
    "    ```\n",
    "     A : CleanHand , customized01\n",
    "\t B : SocialDistancing, TouchFace\n",
    "\t C : CleanHand\n",
    "\t D : customized02\n",
    "\t```\n"
   ]
  },
  {
   "cell_type": "markdown",
   "metadata": {},
   "source": [
    "behavior data in the autonomy data-set will have values:\n",
    "+ sum of total weights (official+customized good behaviors) \n",
    "+ total people in the report\n",
    "+ a max weight per person can have\n",
    "+ total customized weight "
   ]
  },
  {
   "cell_type": "markdown",
   "metadata": {},
   "source": [
    "#### Equation & final score\n"
   ]
  },
  {
   "cell_type": "code",
   "execution_count": 6,
   "metadata": {},
   "outputs": [
    {
     "name": "stdout",
     "output_type": "stream",
     "text": [
      "**scoreBehavior: 23.076923076923077\n"
     ]
    }
   ],
   "source": [
    "# SumOfTotalWeight = 2 + 2 + 1 + 1\n",
    "SumOfTotalWeightBehavior = 6\n",
    "TotalPeopleBehavior = 4 \n",
    "# (We have 6 official behaviors)\n",
    "MaxWeightPerPersonBehavior = 6 \n",
    "SumOfCustomizedWeightBehavior = 2\n",
    "if ((TotalPeopleBehavior*MaxWeightPerPersonBehavior)+SumOfCustomizedWeightBehavior) > 0:\n",
    "    scoreBehavior = 100*(SumOfTotalWeightBehavior/((TotalPeopleBehavior*MaxWeightPerPersonBehavior)+SumOfCustomizedWeightBehavior))\n",
    "else:\n",
    "    scoreBehavior = 0\n",
    "print('**scoreBehavior:', scoreBehavior)"
   ]
  },
  {
   "cell_type": "markdown",
   "metadata": {},
   "source": [
    "## Confirmed cases indicator\n",
    "+ The confirmed cases data is from [Corona Data Scraper CDS](https://coronadatascraper.com/#home) \n",
    "    + Taiwan use country level data\n",
    "    + US use county level data\n",
    "+ Score Equation　\n",
    "    + Exponential Weight Average Method\n",
    "   \n",
    "$$1 - \\dfrac{\\displaystyle\\sum_{i=1}^{14}e^{\\frac{i}{2}}d_i}{\\displaystyle\\sum_{i=1}^{14}e^{\\frac{i}{2}}(d_i+1)}$$\n"
   ]
  },
  {
   "cell_type": "markdown",
   "metadata": {},
   "source": [
    "### Example 1 \n",
    "In 14 days , each day the new confirm cases is \n",
    " - day 1: 3\n",
    " - day 2: 2\n",
    " - day 3: 2\n",
    " - day 4: 1\n",
    " - day 14: 10 (last data reported)\n",
    "\n",
    "$$1 - \\dfrac{e^{0.5}*3 + e*2+ e^{1.5}*2 + e^2 * 1 + e^7*10 }{e^{0.5}*4 + e*3+ e^{1.5}*3 + e^2 * 2 + e^{2.5} +e^{3}+e^{3.5}+e^{4}+e^{4.5}+e^{5}+e^{5.5}+e^{6}+e^{6.5} + e^7*11} \\\\\n",
    "\\approx 0.20210651903685417\n",
    "$$\n",
    "\n",
    "The score is at about 20.2 since there are much cases in the nearest day.\n",
    "\n",
    "### Example 2\n",
    "In 14 days , each day the new confirm cases is \n",
    " - day 1: 20\n",
    " - day 2: 2\n",
    " - day 3: 2\n",
    " - day 4: 1\n",
    " - day 13: 1\n",
    " - day 14: 1 (last data reported)\n",
    " \n",
    "$$1 - \\dfrac{e^{0.5}*20 + e*2+ e^{1.5}*2 + e^2 * 1 + e^{6.5}*2+ e^7*1 }{e^{0.5}*21 + e*3+ e^{1.5}*3 + e^2 * 2 + e^{2.5} +e^{3}+e^{3.5}+e^{4}+e^{4.5}+e^{5}+e^{5.5}+e^{6}+e^{6.5}*3+ e^7*2} \\\\\n",
    "\\approx 0.5287554499517347\n",
    "$$\n",
    "\n",
    "The score is at about 52.87 since lots of cases happended on the farthest day."
   ]
  },
  {
   "cell_type": "markdown",
   "metadata": {},
   "source": [
    "### A 14 days Examples"
   ]
  },
  {
   "cell_type": "code",
   "execution_count": 12,
   "metadata": {},
   "outputs": [],
   "source": [
    "confirmsCases14Days = [3, 2, 2, 1, 0, 1, 30, 4, 0, 0, 3, 3, 4, 3]"
   ]
  },
  {
   "cell_type": "markdown",
   "metadata": {},
   "source": [
    "#### Equation & final score"
   ]
  },
  {
   "cell_type": "code",
   "execution_count": 13,
   "metadata": {},
   "outputs": [
    {
     "name": "stdout",
     "output_type": "stream",
     "text": [
      "numerator: 4.946163812100385 denominator: 6.594885082800513 day: 1\n",
      "numerator: 10.382727469018475 denominator: 14.749730568177648 day: 2\n",
      "numerator: 19.346105609694604 denominator: 28.194797779191845 day: 3\n",
      "numerator: 26.735161708625256 denominator: 42.97290997705315 day: 4\n",
      "numerator: 26.735161708625256 denominator: 55.155403937756624 day: 5\n",
      "numerator: 46.820698631812924 denominator: 95.32647778413195 day: 6\n",
      "numerator: 1040.2842573925823 denominator: 1121.9054885035935 day: 7\n",
      "numerator: 1258.6768575251592 denominator: 1394.8962386693147 day: 8\n",
      "numerator: 1258.6768575251592 denominator: 1484.9133699698366 day: 9\n",
      "numerator: 1258.6768575251592 denominator: 1633.3265290724132 day: 10\n",
      "numerator: 1992.7526543178203 denominator: 2612.0942581292948 day: 11\n",
      "numerator: 3203.0390347960256 denominator: 4225.809432100235 day: 12\n",
      "numerator: 5863.605566973472 denominator: 7551.517597322045 day: 13\n",
      "numerator: 9153.505042258848 denominator: 11938.050231035879 day: 14\n",
      "**ScoreConfirm: 23.324957885818954\n"
     ]
    }
   ],
   "source": [
    "import math\n",
    "\n",
    "numerator = 0\n",
    "denominator = 0\n",
    "day = 1\n",
    "for cases in  confirmsCases14Days :\n",
    "    power = day/2\n",
    "    numerator = numerator +  math.exp(power)*cases\n",
    "    denominator = denominator +  math.exp(power)*(cases+1)\n",
    "    # print(\"numerator:\",numerator, \"denominator:\",denominator, \"day:\",day)\n",
    "    day += 1\n",
    "\n",
    "scoreConfirm = 0\n",
    "if denominator > 0 :\n",
    "    scoreConfirm = 100*(1- numerator/denominator)\n",
    "\n",
    "print('**ScoreConfirm:', scoreConfirm)"
   ]
  },
  {
   "cell_type": "markdown",
   "metadata": {},
   "source": [
    "##  Overall score\n",
    "Assume we can have normalized score ([0-100]) from each indicator above, we want to come up with an overall score for users as the final indicator. The most straighfoward way could be a linear combination:\n",
    "\n",
    "`final socre = c1*symptom_score + c2*behavior_score + c3*confirm_case_score`"
   ]
  },
  {
   "cell_type": "markdown",
   "metadata": {},
   "source": [
    "### Example\n",
    "Coefficients for each score is\n",
    "    \n",
    "    coefficient1 = 0.25 (symptom)\n",
    "    coefficient2 = 0.25 (behavior)\n",
    "    coefficient13 = 0.50 (confirmed cases)\n",
    "    \n",
    "We use scoreSymptom , scoreBehavior and scoreConfirm from Above"
   ]
  },
  {
   "cell_type": "code",
   "execution_count": 9,
   "metadata": {},
   "outputs": [
    {
     "name": "stdout",
     "output_type": "stream",
     "text": [
      "**Autonomy Overall Score: 28.175481947863293\n"
     ]
    }
   ],
   "source": [
    "coefSymptom=0.25\n",
    "coefBehavior=0.25\n",
    "coefConfirm=0.5\n",
    "score= coefSymptom*scoreSymptom+ coefBehavior*scoreBehavior + coefConfirm*scoreConfirm\n",
    "print('**Autonomy Overall Score:',score)"
   ]
  }
 ],
 "metadata": {
  "kernelspec": {
   "display_name": "Python 3",
   "language": "python",
   "name": "python3"
  },
  "language_info": {
   "codemirror_mode": {
    "name": "ipython",
    "version": 3
   },
   "file_extension": ".py",
   "mimetype": "text/x-python",
   "name": "python",
   "nbconvert_exporter": "python",
   "pygments_lexer": "ipython3",
   "version": "3.7.6"
  }
 },
 "nbformat": 4,
 "nbformat_minor": 4
}
